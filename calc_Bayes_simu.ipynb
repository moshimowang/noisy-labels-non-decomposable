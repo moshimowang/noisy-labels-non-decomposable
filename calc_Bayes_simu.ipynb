{
 "cells": [
  {
   "cell_type": "code",
   "execution_count": 12,
   "id": "00287b45",
   "metadata": {},
   "outputs": [],
   "source": [
    "import numpy as np\n",
    "from models.logistic_regression import get_vec_eta\n",
    "from brute_force_bayes import bayes, bayes_f"
   ]
  },
  {
   "cell_type": "code",
   "execution_count": 13,
   "id": "d205d523",
   "metadata": {},
   "outputs": [],
   "source": [
    "data_dir = \"./synthetic_data/\"\n",
    "training_size = 100000\n",
    "\n",
    "f_results_dir = data_dir+\"f_results/\"\n",
    "q_results_dir = data_dir+\"q_results/\""
   ]
  },
  {
   "cell_type": "markdown",
   "id": "49d5e536",
   "metadata": {},
   "source": []
  },
  {
   "cell_type": "code",
   "execution_count": 14,
   "id": "578a728f",
   "metadata": {},
   "outputs": [],
   "source": [
    "all_X_train = np.load(data_dir+\"simulated_X_train_\"+str(training_size)+\".npy\", allow_pickle=True)\n",
    "X_test = np.load(data_dir+\"simulated_X_test.npy\", allow_pickle=True)[:100000]\n",
    "all_y_train = np.load(data_dir+\"simulated_y_train_\"+str(training_size)+\".npy\", allow_pickle=True)\n",
    "y_test = np.load(data_dir+\"simulated_y_test.npy\", allow_pickle=True)[:100000]\n",
    "\n",
    "X_train = all_X_train[0]\n",
    "y_train = all_y_train[0]"
   ]
  },
  {
   "cell_type": "code",
   "execution_count": 15,
   "id": "609811f8",
   "metadata": {},
   "outputs": [
    {
     "name": "stdout",
     "output_type": "stream",
     "text": [
      "(array([0, 1, 2], dtype=int32), array([84932, 10003,  5065]))\n",
      "(array([0, 1, 2], dtype=int32), array([85096,  9961,  4943]))\n"
     ]
    }
   ],
   "source": [
    "n_class_train = len(np.unique(y_train))\n",
    "n_class_test = len(np.unique(y_test))\n",
    "assert n_class_test == n_class_train\n",
    "n_class = n_class_train\n",
    "\n",
    "print(np.unique(y_train, return_counts=True))\n",
    "print(np.unique(y_test, return_counts=True))"
   ]
  },
  {
   "cell_type": "code",
   "execution_count": 16,
   "id": "3d1382fb",
   "metadata": {},
   "outputs": [
    {
     "name": "stdout",
     "output_type": "stream",
     "text": [
      "Bayes brute force coodinates:  [0.21015625]\n",
      "0.78\n"
     ]
    }
   ],
   "source": [
    "### Calculate the Bayes Optimal Classifier for Micro F1\n",
    "\n",
    "vec_eta = get_vec_eta(X_test, y_test)\n",
    "bayes_optimal = bayes_f(X_test, y_test, vec_eta, n_class)\n",
    "print(np.round(bayes_optimal, 3))\n",
    "\n",
    "np.save(f_results_dir+\"results_bayes.npy\", [bayes_optimal, bayes_optimal], allow_pickle=True)"
   ]
  },
  {
   "cell_type": "code",
   "execution_count": 17,
   "id": "5551bcdb",
   "metadata": {},
   "outputs": [
    {
     "name": "stdout",
     "output_type": "stream",
     "text": [
      "Bayes brute force coodinates:  [0.56453091 5.55578648 9.83912858]\n",
      "0.522\n"
     ]
    }
   ],
   "source": [
    "### Calculate the Bayes Optimal Classifier for Q-mean\n",
    "\n",
    "vec_eta = get_vec_eta(X_test, y_test)\n",
    "bayes_optimal = bayes(X_test, y_test, vec_eta, n_class)\n",
    "print(np.round(bayes_optimal, 3))\n",
    "\n",
    "np.save(q_results_dir+\"results_bayes.npy\", [bayes_optimal, bayes_optimal], allow_pickle=True)"
   ]
  },
  {
   "cell_type": "code",
   "execution_count": null,
   "id": "2c3c3842",
   "metadata": {},
   "outputs": [],
   "source": []
  }
 ],
 "metadata": {
  "kernelspec": {
   "display_name": "Python 3.9.12 ('base')",
   "language": "python",
   "name": "python3"
  },
  "language_info": {
   "codemirror_mode": {
    "name": "ipython",
    "version": 3
   },
   "file_extension": ".py",
   "mimetype": "text/x-python",
   "name": "python",
   "nbconvert_exporter": "python",
   "pygments_lexer": "ipython3",
   "version": "3.10.12"
  },
  "vscode": {
   "interpreter": {
    "hash": "a28365bc967dac32bf04a69c66885de758a78f3950c32830e44b3a295287e295"
   }
  }
 },
 "nbformat": 4,
 "nbformat_minor": 5
}
