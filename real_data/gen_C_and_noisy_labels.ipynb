{
 "cells": [
  {
   "cell_type": "code",
   "execution_count": null,
   "metadata": {},
   "outputs": [],
   "source": [
    "import numpy as np"
   ]
  },
  {
   "cell_type": "code",
   "execution_count": null,
   "metadata": {},
   "outputs": [],
   "source": [
    "def gen_C2(k, gamma):\n",
    "    stop = False\n",
    "    while not stop:\n",
    "        C = np.random.uniform(0,1,size=(k,k))\n",
    "        np.fill_diagonal(C, 0)\n",
    "        C = (1-gamma) * C / np.sum(C, axis=0)[np.newaxis, :]\n",
    "        np.fill_diagonal(C, gamma)\n",
    "        c_rank = np.linalg.matrix_rank(C)\n",
    "        if c_rank == k:\n",
    "            stop = True\n",
    "\n",
    "    print(\"C: \", C)\n",
    "    assert(np.allclose(np.sum(C, axis=0), 1))\n",
    "    print(\"det(C): \", np.linalg.det(C))\n",
    "    u, s, vh = np.linalg.svd(C)\n",
    "    print(\"smallest singular value of C: \", s[-1])\n",
    "    return C"
   ]
  },
  {
   "cell_type": "code",
   "execution_count": null,
   "metadata": {},
   "outputs": [],
   "source": [
    "noise_rates = [0.1, 0.2, 0.3, 0.4]"
   ]
  },
  {
   "cell_type": "code",
   "execution_count": null,
   "metadata": {},
   "outputs": [],
   "source": [
    "for d in [\"vehicle\", \"pageblocks\", \"satimage\", \"covtype\", \"abalone\"]:\n",
    "    print(d)\n",
    "    data_dict = np.load(\"./\" + d + \"/\" + d +\"_data.npy\", allow_pickle=True).item()\n",
    "    #print(data_dict.keys())\n",
    "    X_data = data_dict['X']\n",
    "    Y_data = data_dict['Y']\n",
    "\n",
    "\n",
    "    n_class = len(np.unique(Y_data))\n",
    "    print(\"n_class: \", n_class)\n",
    "\n",
    "    # Generate C and noisy labels\n",
    "    for i in range(len(noise_rates)):\n",
    "        C = gen_C2(n_class, 1-noise_rates[i])\n",
    "        np.save(\"./\" + d + \"/C_\" + str(i) + \".npy\", C, allow_pickle=True)\n",
    "\n",
    "        Y_noisy = Y_data.copy()\n",
    "\n",
    "        for j in range(len(Y_data)):\n",
    "            Y_noisy[j] = np.random.choice(n_class, size=1, p=np.squeeze(C[:,Y_data[j]]))\n",
    "\n",
    "        assert(n_class == len(np.unique(Y_noisy)))\n",
    "\n",
    "        new_data_dict = {'X': X_data, 'Y': Y_noisy}\n",
    "        np.save(\"./\" + d + \"/\" + d + \"_noisy_\" + str(4+i) + \".npy\", new_data_dict, allow_pickle=True)"
   ]
  }
 ],
 "metadata": {
  "kernelspec": {
   "display_name": "Python 3.8.10 64-bit",
   "language": "python",
   "name": "python3"
  },
  "language_info": {
   "codemirror_mode": {
    "name": "ipython",
    "version": 3
   },
   "file_extension": ".py",
   "mimetype": "text/x-python",
   "name": "python",
   "nbconvert_exporter": "python",
   "pygments_lexer": "ipython3",
   "version": "3.8.10"
  },
  "orig_nbformat": 4,
  "vscode": {
   "interpreter": {
    "hash": "e7370f93d1d0cde622a1f8e1c04877d8463912d04d973331ad4851f04de6915a"
   }
  }
 },
 "nbformat": 4,
 "nbformat_minor": 2
}
